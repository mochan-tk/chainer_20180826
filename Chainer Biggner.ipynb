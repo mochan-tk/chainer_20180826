{
 "cells": [
  {
   "cell_type": "code",
   "execution_count": 1,
   "metadata": {},
   "outputs": [
    {
     "name": "stdout",
     "output_type": "stream",
     "text": [
      "\u001b[31mCannot uninstall requirement chainer, not installed\u001b[0m\r\n"
     ]
    }
   ],
   "source": [
    "!pip uninstall chainer"
   ]
  },
  {
   "cell_type": "code",
   "execution_count": 4,
   "metadata": {
    "scrolled": true
   },
   "outputs": [
    {
     "name": "stdout",
     "output_type": "stream",
     "text": [
      "Collecting chainer\n",
      "  Using cached chainer-2.0.2.tar.gz\n",
      "Collecting filelock (from chainer)\n",
      "  Downloading filelock-2.0.11.tar.gz\n",
      "Collecting mock (from chainer)\n",
      "  Downloading mock-2.0.0-py2.py3-none-any.whl (56kB)\n",
      "\u001b[K    100% |████████████████████████████████| 61kB 3.1MB/s ta 0:00:01\n",
      "\u001b[?25hRequirement already satisfied: nose in ./.pyenv/versions/anaconda3-4.4.0/lib/python3.6/site-packages (from chainer)\n",
      "Requirement already satisfied: numpy>=1.9.0 in ./.pyenv/versions/anaconda3-4.4.0/lib/python3.6/site-packages (from chainer)\n",
      "Collecting protobuf>=2.6.0 (from chainer)\n",
      "  Downloading protobuf-3.4.0-cp36-cp36m-manylinux1_x86_64.whl (6.2MB)\n",
      "\u001b[K    100% |████████████████████████████████| 6.2MB 122kB/s eta 0:00:01    55% |█████████████████▋              | 3.4MB 29.2MB/s eta 0:00:01\n",
      "\u001b[?25hRequirement already satisfied: six>=1.9.0 in ./.pyenv/versions/anaconda3-4.4.0/lib/python3.6/site-packages (from chainer)\n",
      "Collecting pbr>=0.11 (from mock->chainer)\n",
      "  Downloading pbr-3.1.1-py2.py3-none-any.whl (99kB)\n",
      "\u001b[K    100% |████████████████████████████████| 102kB 7.4MB/s ta 0:00:01\n",
      "\u001b[?25hRequirement already satisfied: setuptools in ./.pyenv/versions/anaconda3-4.4.0/lib/python3.6/site-packages/setuptools-27.2.0-py3.6.egg (from protobuf>=2.6.0->chainer)\n",
      "Building wheels for collected packages: chainer, filelock\n",
      "  Running setup.py bdist_wheel for chainer ... \u001b[?25ldone\n",
      "\u001b[?25h  Stored in directory: /root/.cache/pip/wheels/49/7a/65/011f3cb35e105e60f018f6ac887e87cccf4bbc4bf5342fdb4e\n",
      "  Running setup.py bdist_wheel for filelock ... \u001b[?25ldone\n",
      "\u001b[?25h  Stored in directory: /root/.cache/pip/wheels/c5/ae/6d/d0eeb68075b74ef351d8081e7850c70c535474119d042d1fe1\n",
      "Successfully built chainer filelock\n",
      "Installing collected packages: filelock, pbr, mock, protobuf, chainer\n",
      "Successfully installed chainer-2.0.2 filelock-2.0.11 mock-2.0.0 pbr-3.1.1 protobuf-3.4.0\n"
     ]
    }
   ],
   "source": [
    "!pip install chainer\n",
    "\n"
   ]
  },
  {
   "cell_type": "code",
   "execution_count": 5,
   "metadata": {
    "collapsed": true
   },
   "outputs": [],
   "source": [
    "import chainer"
   ]
  },
  {
   "cell_type": "code",
   "execution_count": 6,
   "metadata": {},
   "outputs": [
    {
     "data": {
      "text/plain": [
       "'2.0.2'"
      ]
     },
     "execution_count": 6,
     "metadata": {},
     "output_type": "execute_result"
    }
   ],
   "source": [
    "chainer.__version__\n"
   ]
  },
  {
   "cell_type": "code",
   "execution_count": 7,
   "metadata": {
    "collapsed": true
   },
   "outputs": [],
   "source": [
    "import chainer"
   ]
  },
  {
   "cell_type": "code",
   "execution_count": 9,
   "metadata": {},
   "outputs": [
    {
     "data": {
      "text/plain": [
       "'2.0.2'"
      ]
     },
     "execution_count": 9,
     "metadata": {},
     "output_type": "execute_result"
    }
   ],
   "source": [
    "chainer.__version__"
   ]
  },
  {
   "cell_type": "code",
   "execution_count": 10,
   "metadata": {
    "collapsed": true
   },
   "outputs": [],
   "source": [
    "import chainer.links as L"
   ]
  },
  {
   "cell_type": "code",
   "execution_count": 12,
   "metadata": {},
   "outputs": [],
   "source": [
    "link = L.Linear(3,2)"
   ]
  },
  {
   "cell_type": "code",
   "execution_count": 13,
   "metadata": {},
   "outputs": [
    {
     "data": {
      "text/plain": [
       "variable W([[ 0.20294699,  0.36269063, -0.06867051],\n",
       "            [ 0.3234238 ,  0.06679516, -1.22625113]])"
      ]
     },
     "execution_count": 13,
     "metadata": {},
     "output_type": "execute_result"
    }
   ],
   "source": [
    "link.W"
   ]
  },
  {
   "cell_type": "code",
   "execution_count": 14,
   "metadata": {},
   "outputs": [
    {
     "data": {
      "text/plain": [
       "array([[ 0.20294699,  0.36269063, -0.06867051],\n",
       "       [ 0.3234238 ,  0.06679516, -1.22625113]], dtype=float32)"
      ]
     },
     "execution_count": 14,
     "metadata": {},
     "output_type": "execute_result"
    }
   ],
   "source": [
    "#chainer\n",
    "link.W.data"
   ]
  },
  {
   "cell_type": "code",
   "execution_count": 18,
   "metadata": {
    "collapsed": true
   },
   "outputs": [],
   "source": [
    "import numpy as np # number calc\n"
   ]
  },
  {
   "cell_type": "code",
   "execution_count": 21,
   "metadata": {},
   "outputs": [
    {
     "name": "stdout",
     "output_type": "stream",
     "text": [
      "[[ 1.  2.  3.]]\n"
     ]
    }
   ],
   "source": [
    "x = np.array([[1,2,3]], dtype=np.float32)\n",
    "print(x)"
   ]
  },
  {
   "cell_type": "code",
   "execution_count": 26,
   "metadata": {},
   "outputs": [
    {
     "name": "stdout",
     "output_type": "stream",
     "text": [
      "variable([[ 0.72231674 -3.22173929]])\n"
     ]
    }
   ],
   "source": [
    "# u no atai no keisan\n",
    "u = link(x)\n",
    "print(u)"
   ]
  },
  {
   "cell_type": "code",
   "execution_count": 27,
   "metadata": {},
   "outputs": [
    {
     "data": {
      "text/plain": [
       "variable([[ 0.72231674,  0.        ]])"
      ]
     },
     "execution_count": 27,
     "metadata": {},
     "output_type": "execute_result"
    }
   ],
   "source": [
    "# z no keisan\n",
    "import chainer.functions as F\n",
    "\n",
    "F.relu(u)"
   ]
  },
  {
   "cell_type": "code",
   "execution_count": 30,
   "metadata": {
    "collapsed": true
   },
   "outputs": [],
   "source": [
    "class NN(chainer.Chain):\n",
    "    # model\n",
    "    def __init__(self):\n",
    "        super().__init__()\n",
    "        with self.init_scope():\n",
    "            self.l1 = L.Linear(1,100)\n",
    "            self.l2 = L.Linear(100,30)\n",
    "            self.l3 = L.Linear(30,1)\n",
    "            \n",
    "    # function\n",
    "    def __call__(self, x, t):\n",
    "        y = self.predict(x)\n",
    "        loss = F.mean_squared_error(t, y)\n",
    "        return loss\n",
    "    \n",
    "    # predict result\n",
    "    def predict(self, x):\n",
    "        u1 = self.l1(x)\n",
    "        z1 = F.relu(u1)\n",
    "        u2 = self.l2(z1)\n",
    "        z2 = F.relu(u2)\n",
    "        y = self.l3(z2)\n",
    "        return y"
   ]
  },
  {
   "cell_type": "code",
   "execution_count": 31,
   "metadata": {
    "collapsed": true
   },
   "outputs": [],
   "source": [
    "model = NN()\n"
   ]
  },
  {
   "cell_type": "code",
   "execution_count": null,
   "metadata": {
    "collapsed": true
   },
   "outputs": [],
   "source": []
  }
 ],
 "metadata": {
  "kernelspec": {
   "display_name": "Python 3",
   "language": "python",
   "name": "python3"
  },
  "language_info": {
   "codemirror_mode": {
    "name": "ipython",
    "version": 3
   },
   "file_extension": ".py",
   "mimetype": "text/x-python",
   "name": "python",
   "nbconvert_exporter": "python",
   "pygments_lexer": "ipython3",
   "version": "3.6.1"
  }
 },
 "nbformat": 4,
 "nbformat_minor": 2
}
